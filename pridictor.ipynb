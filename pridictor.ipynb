{
 "cells": [
  {
   "cell_type": "code",
   "execution_count": 3,
   "id": "3d47216d",
   "metadata": {},
   "outputs": [
    {
     "name": "stdout",
     "output_type": "stream",
     "text": [
      "Requirement already satisfied: happytransformer in c:\\users\\niket\\anaconda3\\lib\\site-packages (2.4.1)\n",
      "Requirement already satisfied: torch>=1.0 in c:\\users\\niket\\anaconda3\\lib\\site-packages (from happytransformer) (2.0.0)\n",
      "Requirement already satisfied: tqdm>=4.43 in c:\\users\\niket\\anaconda3\\lib\\site-packages (from happytransformer) (4.64.0)\n",
      "Requirement already satisfied: transformers>=4.4.0 in c:\\users\\niket\\anaconda3\\lib\\site-packages (from happytransformer) (4.27.4)\n",
      "Requirement already satisfied: datasets>=1.6.0 in c:\\users\\niket\\anaconda3\\lib\\site-packages (from happytransformer) (2.12.0)\n",
      "Requirement already satisfied: sentencepiece in c:\\users\\niket\\anaconda3\\lib\\site-packages (from happytransformer) (0.1.99)\n",
      "Requirement already satisfied: protobuf in c:\\users\\niket\\anaconda3\\lib\\site-packages (from happytransformer) (3.20.0)\n",
      "Requirement already satisfied: numpy>=1.17 in c:\\users\\niket\\anaconda3\\lib\\site-packages (from datasets>=1.6.0->happytransformer) (1.21.5)\n",
      "Requirement already satisfied: pyarrow>=8.0.0 in c:\\users\\niket\\anaconda3\\lib\\site-packages (from datasets>=1.6.0->happytransformer) (11.0.0)\n",
      "Requirement already satisfied: dill<0.3.7,>=0.3.0 in c:\\users\\niket\\anaconda3\\lib\\site-packages (from datasets>=1.6.0->happytransformer) (0.3.6)\n",
      "Requirement already satisfied: pandas in c:\\users\\niket\\anaconda3\\lib\\site-packages (from datasets>=1.6.0->happytransformer) (1.4.2)\n",
      "Requirement already satisfied: requests>=2.19.0 in c:\\users\\niket\\anaconda3\\lib\\site-packages (from datasets>=1.6.0->happytransformer) (2.27.1)\n",
      "Requirement already satisfied: xxhash in c:\\users\\niket\\anaconda3\\lib\\site-packages (from datasets>=1.6.0->happytransformer) (3.2.0)\n",
      "Requirement already satisfied: multiprocess in c:\\users\\niket\\anaconda3\\lib\\site-packages (from datasets>=1.6.0->happytransformer) (0.70.14)\n",
      "Requirement already satisfied: fsspec[http]>=2021.11.1 in c:\\users\\niket\\anaconda3\\lib\\site-packages (from datasets>=1.6.0->happytransformer) (2022.2.0)\n",
      "Requirement already satisfied: aiohttp in c:\\users\\niket\\anaconda3\\lib\\site-packages (from datasets>=1.6.0->happytransformer) (3.8.1)\n",
      "Requirement already satisfied: huggingface-hub<1.0.0,>=0.11.0 in c:\\users\\niket\\anaconda3\\lib\\site-packages (from datasets>=1.6.0->happytransformer) (0.13.3)\n",
      "Requirement already satisfied: packaging in c:\\users\\niket\\anaconda3\\lib\\site-packages (from datasets>=1.6.0->happytransformer) (21.3)\n",
      "Requirement already satisfied: responses<0.19 in c:\\users\\niket\\anaconda3\\lib\\site-packages (from datasets>=1.6.0->happytransformer) (0.18.0)\n",
      "Requirement already satisfied: pyyaml>=5.1 in c:\\users\\niket\\anaconda3\\lib\\site-packages (from datasets>=1.6.0->happytransformer) (6.0)\n",
      "Requirement already satisfied: filelock in c:\\users\\niket\\anaconda3\\lib\\site-packages (from torch>=1.0->happytransformer) (3.6.0)\n",
      "Requirement already satisfied: typing-extensions in c:\\users\\niket\\anaconda3\\lib\\site-packages (from torch>=1.0->happytransformer) (4.5.0)\n",
      "Requirement already satisfied: sympy in c:\\users\\niket\\anaconda3\\lib\\site-packages (from torch>=1.0->happytransformer) (1.10.1)\n",
      "Requirement already satisfied: networkx in c:\\users\\niket\\anaconda3\\lib\\site-packages (from torch>=1.0->happytransformer) (2.7.1)\n",
      "Requirement already satisfied: jinja2 in c:\\users\\niket\\anaconda3\\lib\\site-packages (from torch>=1.0->happytransformer) (3.1.2)\n",
      "Requirement already satisfied: colorama in c:\\users\\niket\\anaconda3\\lib\\site-packages (from tqdm>=4.43->happytransformer) (0.4.4)\n",
      "Requirement already satisfied: regex!=2019.12.17 in c:\\users\\niket\\anaconda3\\lib\\site-packages (from transformers>=4.4.0->happytransformer) (2022.3.15)\n",
      "Requirement already satisfied: tokenizers!=0.11.3,<0.14,>=0.11.1 in c:\\users\\niket\\anaconda3\\lib\\site-packages (from transformers>=4.4.0->happytransformer) (0.13.2)\n",
      "Requirement already satisfied: pyparsing!=3.0.5,>=2.0.2 in c:\\users\\niket\\anaconda3\\lib\\site-packages (from packaging->datasets>=1.6.0->happytransformer) (3.0.4)\n",
      "Requirement already satisfied: urllib3<1.27,>=1.21.1 in c:\\users\\niket\\anaconda3\\lib\\site-packages (from requests>=2.19.0->datasets>=1.6.0->happytransformer) (1.26.9)\n",
      "Requirement already satisfied: certifi>=2017.4.17 in c:\\users\\niket\\anaconda3\\lib\\site-packages (from requests>=2.19.0->datasets>=1.6.0->happytransformer) (2021.10.8)\n",
      "Requirement already satisfied: charset-normalizer~=2.0.0 in c:\\users\\niket\\anaconda3\\lib\\site-packages (from requests>=2.19.0->datasets>=1.6.0->happytransformer) (2.0.4)\n",
      "Requirement already satisfied: idna<4,>=2.5 in c:\\users\\niket\\anaconda3\\lib\\site-packages (from requests>=2.19.0->datasets>=1.6.0->happytransformer) (3.3)\n",
      "Requirement already satisfied: attrs>=17.3.0 in c:\\users\\niket\\anaconda3\\lib\\site-packages (from aiohttp->datasets>=1.6.0->happytransformer) (21.4.0)\n",
      "Requirement already satisfied: multidict<7.0,>=4.5 in c:\\users\\niket\\anaconda3\\lib\\site-packages (from aiohttp->datasets>=1.6.0->happytransformer) (5.1.0)\n",
      "Requirement already satisfied: async-timeout<5.0,>=4.0.0a3 in c:\\users\\niket\\anaconda3\\lib\\site-packages (from aiohttp->datasets>=1.6.0->happytransformer) (4.0.1)\n",
      "Requirement already satisfied: yarl<2.0,>=1.0 in c:\\users\\niket\\anaconda3\\lib\\site-packages (from aiohttp->datasets>=1.6.0->happytransformer) (1.6.3)\n",
      "Requirement already satisfied: frozenlist>=1.1.1 in c:\\users\\niket\\anaconda3\\lib\\site-packages (from aiohttp->datasets>=1.6.0->happytransformer) (1.2.0)\n",
      "Requirement already satisfied: aiosignal>=1.1.2 in c:\\users\\niket\\anaconda3\\lib\\site-packages (from aiohttp->datasets>=1.6.0->happytransformer) (1.2.0)\n",
      "Requirement already satisfied: MarkupSafe>=2.0 in c:\\users\\niket\\anaconda3\\lib\\site-packages (from jinja2->torch>=1.0->happytransformer) (2.1.2)\n",
      "Requirement already satisfied: python-dateutil>=2.8.1 in c:\\users\\niket\\anaconda3\\lib\\site-packages (from pandas->datasets>=1.6.0->happytransformer) (2.8.2)\n",
      "Requirement already satisfied: pytz>=2020.1 in c:\\users\\niket\\anaconda3\\lib\\site-packages (from pandas->datasets>=1.6.0->happytransformer) (2021.3)\n",
      "Requirement already satisfied: mpmath>=0.19 in c:\\users\\niket\\anaconda3\\lib\\site-packages (from sympy->torch>=1.0->happytransformer) (1.2.1)\n",
      "Requirement already satisfied: six>=1.5 in c:\\users\\niket\\anaconda3\\lib\\site-packages (from python-dateutil>=2.8.1->pandas->datasets>=1.6.0->happytransformer) (1.16.0)\n"
     ]
    },
    {
     "name": "stderr",
     "output_type": "stream",
     "text": [
      "WARNING: Ignoring invalid distribution -ocopt (c:\\users\\niket\\anaconda3\\lib\\site-packages)\n",
      "WARNING: Ignoring invalid distribution -rotobuf (c:\\users\\niket\\anaconda3\\lib\\site-packages)\n",
      "WARNING: Ignoring invalid distribution -ocopt (c:\\users\\niket\\anaconda3\\lib\\site-packages)\n",
      "WARNING: Ignoring invalid distribution -rotobuf (c:\\users\\niket\\anaconda3\\lib\\site-packages)\n"
     ]
    }
   ],
   "source": [
    "!pip install happytransformer\n"
   ]
  },
  {
   "cell_type": "code",
   "execution_count": 6,
   "id": "154879e1",
   "metadata": {},
   "outputs": [],
   "source": [
    "from happytransformer import HappyTextToText\n"
   ]
  },
  {
   "cell_type": "code",
   "execution_count": 7,
   "id": "22b4da24",
   "metadata": {},
   "outputs": [
    {
     "name": "stderr",
     "output_type": "stream",
     "text": [
      "05/19/2023 06:14:28 - INFO - happytransformer.happy_transformer -   Using model: cpu\n"
     ]
    }
   ],
   "source": [
    "happy_tt = HappyTextToText(\"T5\", \"vennify/t5-base-grammar-correction\")\n"
   ]
  },
  {
   "cell_type": "code",
   "execution_count": 8,
   "id": "d3adbf68",
   "metadata": {},
   "outputs": [],
   "source": [
    "from happytransformer import TTSettings\n",
    "from spellchecker import SpellChecker"
   ]
  },
  {
   "cell_type": "code",
   "execution_count": 9,
   "id": "c5305b91",
   "metadata": {},
   "outputs": [],
   "source": [
    "args = TTSettings(num_beams=5, min_length=1)\n"
   ]
  },
  {
   "cell_type": "code",
   "execution_count": 10,
   "id": "86c64ac4",
   "metadata": {},
   "outputs": [
    {
     "name": "stdout",
     "output_type": "stream",
     "text": [
      "Enter a sentence with grammatical errors (or 'q' to quit): Every studnts like the techer.\n",
      "Corrected sentence: Every student likes the teacher.\n",
      "Enter a sentence with grammatical errors (or 'q' to quit): q\n"
     ]
    }
   ],
   "source": [
    "# Initialize the SpellChecker\n",
    "spell = SpellChecker(language=\"en\")\n",
    "\n",
    "while True:\n",
    "    input_text = input(\"Enter a sentence with grammatical errors (or 'q' to quit): \")\n",
    "    if input_text.lower() == \"q\":\n",
    "        break\n",
    "    \n",
    "    # Perform spelling correction\n",
    "    words = input_text.split()\n",
    "    corrected_words = [spell.correction(word) for word in words]\n",
    "    corrected_text = \" \".join(corrected_words)\n",
    "\n",
    "    # Perform grammar correction\n",
    "    result = happy_tt.generate_text(corrected_text, args=args)\n",
    "    corrected_text = result.text\n",
    "    \n",
    "    print(\"Corrected sentence:\", corrected_text)"
   ]
  },
  {
   "cell_type": "markdown",
   "id": "5770c307",
   "metadata": {},
   "source": [
    "# ----------------------------------------------------------"
   ]
  },
  {
   "cell_type": "code",
   "execution_count": null,
   "id": "e79852ab",
   "metadata": {},
   "outputs": [],
   "source": [
    "#!pip install pyserial\n",
    "import serial\n",
    "from happytransformer import HappyTextToText, TTSettings\n",
    "\n",
    "# Initialize the serial connection\n",
    "ser = serial.Serial('<your_serial_port>', <baud_rate>)\n",
    "\n",
    "happy_tt = HappyTextToText(\"T5\", \"vennify/t5-base-grammar-correction\")\n",
    "args = TTSettings(num_beams=5, min_length=1)\n",
    "\n",
    "while True:\n",
    "    input_text = ser.readline().decode().strip()  # Read input from Arduino via serial\n",
    "    if input_text.lower() == \"q\":\n",
    "        break\n",
    "\n",
    "    result = happy_tt.generate_text(input_text, args=args)\n",
    "    corrected_text = result.text\n",
    "\n",
    "    print(\"Corrected sentence:\", corrected_text)\n"
   ]
  }
 ],
 "metadata": {
  "kernelspec": {
   "display_name": "Python 3 (ipykernel)",
   "language": "python",
   "name": "python3"
  },
  "language_info": {
   "codemirror_mode": {
    "name": "ipython",
    "version": 3
   },
   "file_extension": ".py",
   "mimetype": "text/x-python",
   "name": "python",
   "nbconvert_exporter": "python",
   "pygments_lexer": "ipython3",
   "version": "3.9.12"
  }
 },
 "nbformat": 4,
 "nbformat_minor": 5
}
